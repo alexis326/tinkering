{
 "cells": [
  {
   "cell_type": "markdown",
   "id": "02fdb75f",
   "metadata": {},
   "source": [
    "### Dataset source: https://www.kaggle.com/datasets/nadyinky/sephora-products-and-skincare-reviews\n",
    "\n",
    "#### Dataset Usage Examples via Description:\n",
    "\n",
    "* Exploratory Data Analysis (EDA): Explore product categories, regular and discount prices, brand popularity, the impact of different characteristics on price, and ingredient trends\n",
    "* Sentiment Analysis: Is the emotional tone of the review positive, negative, or neutral? Which brands or products have the most positive or negative reviews?\n",
    "* Text Analysis: What do customerSs say most often in their negative and positive reviews? Do customers have any common problems with their skincare?\n",
    "* Recommender System: Analyzing the customer's past purchase history and reviews, suggest products that are likely to be of interest to them\n",
    "* Data Visualization: What are the most popular brands and products? What is the distribution of prices? Which products are closest to each other in ingredients? What does the cloud of the most frequently used words look like?\n",
    "<br>\n",
    "\n",
    "### Languages and tools:\n",
    "\n",
    "* Python 3 (via Jupyter Lab)\n",
    "* Postgres\n",
    "* Power BI\n"
   ]
  },
  {
   "cell_type": "code",
   "execution_count": null,
   "id": "f05c18ac",
   "metadata": {},
   "outputs": [],
   "source": []
  }
 ],
 "metadata": {
  "kernelspec": {
   "display_name": "Python 3 (ipykernel)",
   "language": "python",
   "name": "python3"
  },
  "language_info": {
   "codemirror_mode": {
    "name": "ipython",
    "version": 3
   },
   "file_extension": ".py",
   "mimetype": "text/x-python",
   "name": "python",
   "nbconvert_exporter": "python",
   "pygments_lexer": "ipython3",
   "version": "3.10.5"
  }
 },
 "nbformat": 4,
 "nbformat_minor": 5
}
